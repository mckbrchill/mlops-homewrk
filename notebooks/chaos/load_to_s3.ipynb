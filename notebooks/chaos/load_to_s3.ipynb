{
 "cells": [
  {
   "cell_type": "code",
   "execution_count": null,
   "metadata": {},
   "outputs": [],
   "source": [
    "import os\n",
    "import boto3\n",
    "from botocore.exceptions import ClientError\n",
    "from botocore.client import Config as BotoConfig\n",
    "from dotenv import load_dotenv\n",
    "\n",
    "TIMEOUT = 180\n",
    "CONFIG = BotoConfig(connect_timeout=TIMEOUT, retries={\"mode\": \"adaptive\", 'max_attempts': 5},\n",
    "                     tcp_keepalive=True)\n",
    "load_dotenv()\n",
    "\n",
    "\n",
    "def copy_s3_objects(source_bucket,\n",
    "                    source_prefix,\n",
    "                    destination_bucket,\n",
    "                    destination_prefix,\n",
    "                    endpoint_url=\"https://storage.yandexcloud.net\"):\n",
    "    s3 = boto3.client('s3',\n",
    "                      aws_access_key_id=os.environ.get(\"S3_ID\"),\n",
    "                      aws_secret_access_key=os.environ.get(\"S3_SECRET\"),\n",
    "                      endpoint_url=endpoint_url,\n",
    "                      config=CONFIG)\n",
    "\n",
    "    response = s3.list_objects_v2(\n",
    "        Bucket=source_bucket,\n",
    "        # Prefix=source_prefix\n",
    "    )\n",
    "\n",
    "    for obj in response.get('Contents', []):\n",
    "        source_key = obj['Key']\n",
    "\n",
    "        if source_key.endswith('.txt'):\n",
    "            destination_key = source_key.replace(source_prefix, destination_prefix, 1)\n",
    "\n",
    "            copy_source = {\n",
    "                'Bucket': source_bucket,\n",
    "                'Key': source_key,\n",
    "                # 'ACL': 'public-read'\n",
    "            }\n",
    "\n",
    "            s3.copy_object(\n",
    "                CopySource=copy_source,\n",
    "                Bucket=destination_bucket,\n",
    "                Key=destination_key\n",
    "            )\n",
    "            print(f\"Source {source_key} was successfully copied to {destination_bucket} with prefix {source_prefix}\")\n",
    "\n",
    "    print(\"Data copied successfully!\")\n",
    "\n",
    "\n",
    "\n",
    "s3_key_id = os.environ.get(\"S3_ID\")\n",
    "s3_secret = os.environ.get(\"S3_SECRET\")\n",
    "endpoint_url = os.environ.get(\"S3_ENDPOINT_URL\")\n",
    "\n",
    "source_bucket = os.environ.get(\"S3_BUCKET_NAME\")\n",
    "source_prefix = \"fraud-data/\"\n",
    "\n",
    "destination_bucket = \"otus-task-n2\"\n",
    "destination_prefix = source_prefix\n",
    "\n",
    "copy_s3_objects(source_bucket,\n",
    "                source_prefix,\n",
    "                destination_bucket,\n",
    "                destination_prefix,\n",
    "                endpoint_url=endpoint_url\n",
    "                )"
   ]
  },
  {
   "cell_type": "code",
   "execution_count": null,
   "metadata": {},
   "outputs": [],
   "source": [
    "import boto3\n",
    "import os\n",
    "\n",
    "from dotenv import load_dotenv\n",
    "\n",
    "load_dotenv()\n",
    "\n",
    "s3_key_id = os.environ.get(\"S3_ID\")\n",
    "s3_secret = os.environ.get(\"S3_SECRET\")\n",
    "bucket_name = os.environ.get(\"S3_BUCKET_NAME\")\n",
    "bucket_name = \"otus-task-n2\"\n",
    "source_prefix = \"fraud-data/\"\n",
    "\n",
    "s3_resource = boto3.resource(\"s3\",\n",
    "                            aws_access_key_id=s3_key_id,\n",
    "                            aws_secret_access_key=s3_secret,\n",
    "                            endpoint_url=\"https://storage.yandexcloud.net\")\n",
    "\n",
    "bucket = s3_resource.Bucket(bucket_name)\n",
    "\n",
    "for obj in bucket.objects.filter():\n",
    "    if obj.key.endswith(\".txt\"):\n",
    "        print(obj.key)\n"
   ]
  },
  {
   "cell_type": "code",
   "execution_count": null,
   "metadata": {},
   "outputs": [],
   "source": [
    "def get_bucket_files_size(bucket_name, prefix, endpoint_url=\"https://storage.yandexcloud.net\"):\n",
    "    total_size = 0\n",
    "    s3 = boto3.client('s3', endpoint_url=endpoint_url)\n",
    "    paginator = s3.get_paginator('list_objects_v2')\n",
    "    for page in paginator.paginate(Bucket=bucket_name, Prefix=prefix):\n",
    "        for obj in page['Contents']:\n",
    "            total_size += obj['Size']\n",
    "    return total_size\n",
    "\n",
    "bucket_size = get_bucket_files_size(bucket_name, source_prefix)\n",
    "print(f\"Size of files in bucket {bucket_name}: {bucket_size / (1024**3)} GB\")"
   ]
  },
  {
   "cell_type": "code",
   "execution_count": 3,
   "metadata": {},
   "outputs": [],
   "source": [
    "import logging\n",
    "import os\n",
    "import subprocess\n",
    "\n",
    "# List of packages to install\n",
    "packages = [\n",
    "    \"findspark==2.0.1\",\n",
    "    \"fsspec\",\n",
    "    \"s3fs\"\n",
    "]\n",
    "\n",
    "# Install each package\n",
    "for package in packages:\n",
    "    subprocess.check_call([\"pip\", \"install\", package])\n",
    "\n",
    "import s3fs"
   ]
  },
  {
   "cell_type": "code",
   "execution_count": 10,
   "metadata": {},
   "outputs": [],
   "source": [
    "def list_bucket(bucket_name):\n",
    "    fs = s3fs.S3FileSystem(anon=True,\n",
    "                      endpoint_url=\"https://storage.yandexcloud.net\")\n",
    "    bucket_objects = fs.ls(bucket_name)\n",
    "    # bucket_objects = [x for x in bucket_objects if x.endswith(\".txt\")]\n",
    "\n",
    "    return bucket_objects"
   ]
  },
  {
   "cell_type": "code",
   "execution_count": 14,
   "metadata": {},
   "outputs": [],
   "source": [
    "bucket_objects=list_bucket(\"otus-task-n3/scripts\")"
   ]
  },
  {
   "cell_type": "code",
   "execution_count": 15,
   "metadata": {},
   "outputs": [
    {
     "data": {
      "text/plain": [
       "['otus-task-n3/scripts/',\n",
       " 'otus-task-n3/scripts/clean_fraud_data.py',\n",
       " 'otus-task-n3/scripts/install_packages.py',\n",
       " 'otus-task-n3/scripts/pyspark_script.py']"
      ]
     },
     "execution_count": 15,
     "metadata": {},
     "output_type": "execute_result"
    }
   ],
   "source": [
    "bucket_objects"
   ]
  },
  {
   "cell_type": "code",
   "execution_count": null,
   "metadata": {},
   "outputs": [],
   "source": []
  }
 ],
 "metadata": {
  "kernelspec": {
   "display_name": "base",
   "language": "python",
   "name": "python3"
  },
  "language_info": {
   "codemirror_mode": {
    "name": "ipython",
    "version": 3
   },
   "file_extension": ".py",
   "mimetype": "text/x-python",
   "name": "python",
   "nbconvert_exporter": "python",
   "pygments_lexer": "ipython3",
   "version": "3.9.12"
  }
 },
 "nbformat": 4,
 "nbformat_minor": 2
}
